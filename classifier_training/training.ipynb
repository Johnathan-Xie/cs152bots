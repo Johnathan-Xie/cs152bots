{
 "cells": [
  {
   "cell_type": "code",
   "execution_count": 1,
   "id": "53dffc46",
   "metadata": {},
   "outputs": [],
   "source": [
    "%load_ext autoreload\n",
    "%autoreload 2"
   ]
  },
  {
   "cell_type": "code",
   "execution_count": 2,
   "id": "ae7a70b3",
   "metadata": {},
   "outputs": [
    {
     "name": "stderr",
     "output_type": "stream",
     "text": [
      "/viscam/u/jwxie/miniconda3/envs/cs152bots/lib/python3.10/site-packages/tqdm/auto.py:21: TqdmWarning: IProgress not found. Please update jupyter and ipywidgets. See https://ipywidgets.readthedocs.io/en/stable/user_install.html\n",
      "  from .autonotebook import tqdm as notebook_tqdm\n"
     ]
    }
   ],
   "source": [
    "from datasets import load_dataset, DatasetDict\n",
    "from transformers import Trainer, AutoTokenizer, set_seed\n",
    "from classifier import TextClassifier"
   ]
  },
  {
   "cell_type": "code",
   "execution_count": 3,
   "id": "8804f66b",
   "metadata": {},
   "outputs": [],
   "source": [
    "set_seed(101)"
   ]
  },
  {
   "cell_type": "code",
   "execution_count": 4,
   "id": "a7707896",
   "metadata": {},
   "outputs": [],
   "source": [
    "base_model_name = \"Alibaba-NLP/gte-multilingual-base\"\n",
    "model_max_length = 64\n",
    "create_new = False\n"
   ]
  },
  {
   "cell_type": "code",
   "execution_count": 5,
   "id": "cd2cfcf0",
   "metadata": {},
   "outputs": [],
   "source": [
    "tokenizer = AutoTokenizer.from_pretrained(base_model_name, model_max_length=model_max_length)"
   ]
  },
  {
   "cell_type": "code",
   "execution_count": 6,
   "id": "ccd10b6c",
   "metadata": {},
   "outputs": [],
   "source": [
    "if create_new:\n",
    "    dataset = load_dataset(\"csv\", data_files=\"anti-lgbt-cyberbullying.csv\")\n",
    "    # 80% train, 5% valid, 15% test\n",
    "    train_valid = dataset[\"train\"].train_test_split(test_size=0.2)\n",
    "    valid_test = train_valid[\"test\"].train_test_split(test_size=0.25)\n",
    "    dataset = DatasetDict({\n",
    "        \"train\": train_valid[\"train\"],\n",
    "        \"validation\": valid_test[\"test\"],\n",
    "        \"test\": valid_test[\"train\"]\n",
    "    })\n",
    "    dataset = dataset.rename_column(\"anti_lgbt\", \"label\")\n",
    "    def preprocess_fn(examples):\n",
    "        return tokenizer(examples[\"text\"], padding=\"max_length\", truncation=True)\n",
    "    dataset = dataset.map(preprocess_fn, batched=True)\n",
    "else:\n",
    "    dataset = load_dataset(\"jxie/anti-lgbt-cyberbullying\")"
   ]
  },
  {
   "cell_type": "code",
   "execution_count": 7,
   "id": "e362de6b",
   "metadata": {},
   "outputs": [
    {
     "data": {
      "text/plain": [
       "64"
      ]
     },
     "execution_count": 7,
     "metadata": {},
     "output_type": "execute_result"
    }
   ],
   "source": [
    "len(dataset[\"train\"][\"input_ids\"][0])"
   ]
  },
  {
   "cell_type": "code",
   "execution_count": 8,
   "id": "ddda8a45",
   "metadata": {},
   "outputs": [],
   "source": [
    "num_classes = len(set(dataset[\"train\"][\"label\"]))"
   ]
  },
  {
   "cell_type": "code",
   "execution_count": 9,
   "id": "2788b78a",
   "metadata": {},
   "outputs": [
    {
     "name": "stderr",
     "output_type": "stream",
     "text": [
      "Some weights of the model checkpoint at Alibaba-NLP/gte-multilingual-base were not used when initializing NewModel: ['classifier.bias', 'classifier.weight']\n",
      "- This IS expected if you are initializing NewModel from the checkpoint of a model trained on another task or with another architecture (e.g. initializing a BertForSequenceClassification model from a BertForPreTraining model).\n",
      "- This IS NOT expected if you are initializing NewModel from the checkpoint of a model that you expect to be exactly identical (initializing a BertForSequenceClassification model from a BertForSequenceClassification model).\n"
     ]
    }
   ],
   "source": [
    "model = TextClassifier(base_model_name=base_model_name, num_classes=num_classes)"
   ]
  },
  {
   "cell_type": "code",
   "execution_count": 10,
   "id": "b39a1614",
   "metadata": {},
   "outputs": [],
   "source": [
    "import numpy as np\n",
    "import evaluate\n",
    "\n",
    "metric = evaluate.load(\"accuracy\")\n",
    "\n",
    "def compute_metrics(eval_pred):\n",
    "    logits, labels = eval_pred\n",
    "    # convert the logits to their predicted class\n",
    "    predictions = np.argmax(logits, axis=-1)\n",
    "    return metric.compute(predictions=predictions, references=labels)"
   ]
  },
  {
   "cell_type": "code",
   "execution_count": 11,
   "id": "8ea9d459",
   "metadata": {},
   "outputs": [],
   "source": [
    "from transformers import TrainingArguments\n",
    "\n",
    "training_args = TrainingArguments(\n",
    "    output_dir=f\"./runs/{base_model_name.replace('/', '-')}\",\n",
    "    eval_strategy=\"epoch\",\n",
    "    num_train_epochs=3,\n",
    "    per_device_train_batch_size=8,\n",
    ")"
   ]
  },
  {
   "cell_type": "code",
   "execution_count": 12,
   "id": "25e46cca",
   "metadata": {},
   "outputs": [
    {
     "name": "stderr",
     "output_type": "stream",
     "text": [
      "Detected kernel version 5.4.0, which is below the recommended minimum of 5.5.0; this can cause the process to hang. It is recommended to upgrade the kernel to the minimum version or higher.\n"
     ]
    }
   ],
   "source": [
    "trainer = Trainer(\n",
    "    model=model,\n",
    "    args=training_args,\n",
    "    train_dataset=dataset[\"train\"],\n",
    "    eval_dataset=dataset[\"validation\"],\n",
    "    compute_metrics=compute_metrics,\n",
    ")"
   ]
  },
  {
   "cell_type": "code",
   "execution_count": 13,
   "id": "47fd45ce",
   "metadata": {},
   "outputs": [
    {
     "data": {
      "text/html": [
       "\n",
       "    <div>\n",
       "      \n",
       "      <progress value='1290' max='1290' style='width:300px; height:20px; vertical-align: middle;'></progress>\n",
       "      [1290/1290 01:37, Epoch 3/3]\n",
       "    </div>\n",
       "    <table border=\"1\" class=\"dataframe\">\n",
       "  <thead>\n",
       " <tr style=\"text-align: left;\">\n",
       "      <th>Epoch</th>\n",
       "      <th>Training Loss</th>\n",
       "      <th>Validation Loss</th>\n",
       "      <th>Accuracy</th>\n",
       "    </tr>\n",
       "  </thead>\n",
       "  <tbody>\n",
       "    <tr>\n",
       "      <td>1</td>\n",
       "      <td>No log</td>\n",
       "      <td>0.317122</td>\n",
       "      <td>0.916279</td>\n",
       "    </tr>\n",
       "    <tr>\n",
       "      <td>2</td>\n",
       "      <td>0.240500</td>\n",
       "      <td>0.455478</td>\n",
       "      <td>0.911628</td>\n",
       "    </tr>\n",
       "    <tr>\n",
       "      <td>3</td>\n",
       "      <td>0.075100</td>\n",
       "      <td>0.550454</td>\n",
       "      <td>0.902326</td>\n",
       "    </tr>\n",
       "  </tbody>\n",
       "</table><p>"
      ],
      "text/plain": [
       "<IPython.core.display.HTML object>"
      ]
     },
     "metadata": {},
     "output_type": "display_data"
    },
    {
     "data": {
      "text/plain": [
       "TrainOutput(global_step=1290, training_loss=0.1256810136543688, metrics={'train_runtime': 97.29, 'train_samples_per_second': 106.044, 'train_steps_per_second': 13.259, 'total_flos': 0.0, 'train_loss': 0.1256810136543688, 'epoch': 3.0})"
      ]
     },
     "execution_count": 13,
     "metadata": {},
     "output_type": "execute_result"
    }
   ],
   "source": [
    "trainer.train()"
   ]
  },
  {
   "cell_type": "code",
   "execution_count": 14,
   "id": "200a9fa2",
   "metadata": {},
   "outputs": [],
   "source": [
    "import torch\n",
    "torch.save(model.state_dict(), base_model_name.replace(\"/\", \"-\") + \".pt\")"
   ]
  },
  {
   "cell_type": "code",
   "execution_count": 15,
   "id": "b7fdc19e",
   "metadata": {},
   "outputs": [],
   "source": [
    "#dataset.push_to_hub(\"jxie/anti-lgbt-cyberbullying\")"
   ]
  },
  {
   "cell_type": "code",
   "execution_count": null,
   "id": "741345e4",
   "metadata": {},
   "outputs": [],
   "source": []
  }
 ],
 "metadata": {
  "kernelspec": {
   "display_name": "cs152bots",
   "language": "python",
   "name": "python3"
  },
  "language_info": {
   "codemirror_mode": {
    "name": "ipython",
    "version": 3
   },
   "file_extension": ".py",
   "mimetype": "text/x-python",
   "name": "python",
   "nbconvert_exporter": "python",
   "pygments_lexer": "ipython3",
   "version": "3.10.16"
  }
 },
 "nbformat": 4,
 "nbformat_minor": 5
}
